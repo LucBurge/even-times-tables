{
 "cells": [
  {
   "cell_type": "code",
   "execution_count": null,
   "metadata": {},
   "outputs": [
    {
     "name": "stdout",
     "output_type": "stream",
     "text": [
      "Even Number Timestable Generator\n",
      " \n",
      "Enter a number: 87\n",
      " \n",
      "The even timestable for 87 is...\n",
      " 2 times 87 is 174\n",
      " 4 times 87 is 348\n",
      " 6 times 87 is 522\n",
      " 8 times 87 is 696\n",
      " 10 times 87 is 870\n",
      " 12 times 87 is 1044\n",
      " 14 times 87 is 1218\n",
      " 16 times 87 is 1392\n",
      " 18 times 87 is 1566\n",
      " 20 times 87 is 1740\n",
      "Would you like to continue (y/n): y\n",
      " \n",
      "Enter a number: 8\n",
      " \n",
      "The even timestable for 8 is...\n",
      " 2 times 8 is 16\n",
      " 4 times 8 is 32\n",
      " 6 times 8 is 48\n",
      " 8 times 8 is 64\n",
      " 10 times 8 is 80\n",
      " 12 times 8 is 96\n",
      " 14 times 8 is 112\n",
      " 16 times 8 is 128\n",
      " 18 times 8 is 144\n",
      " 20 times 8 is 160\n",
      "Would you like to continue (y/n): y\n",
      " \n",
      "Enter a number: 9\n",
      " \n",
      "The even timestable for 9 is...\n",
      " 2 times 9 is 18\n",
      " 4 times 9 is 36\n",
      " 6 times 9 is 54\n",
      " 8 times 9 is 72\n",
      " 10 times 9 is 90\n",
      " 12 times 9 is 108\n",
      " 14 times 9 is 126\n",
      " 16 times 9 is 144\n",
      " 18 times 9 is 162\n",
      " 20 times 9 is 180\n",
      "Would you like to continue (y/n): o\n",
      "Error. Please enter 'y' to continue or 'n' to exit.\n",
      "Would you like to continue (y/n): y\n",
      " \n"
     ]
    }
   ],
   "source": [
    "print(\"Even Number Timestable Generator\")\n",
    "\n",
    "#Keeps the programme running until the user chooses to exit\n",
    "session = \"active\"\n",
    "while session == \"active\":\n",
    "    \n",
    "#Takes user input for the number of the times table\n",
    "    print(\" \")\n",
    "    input_value = int(input(\"Enter a number: \"))\n",
    "    \n",
    "    print(\" \")\n",
    "    print(f\"The even timestable for {input_value} is...\")\n",
    "    \n",
    "    times_value = 2\n",
    "\n",
    "#Displays the even times table for the user input number times values between 2-20 \n",
    "    while times_value <= 20:\n",
    "        print(f\" {times_value} times {input_value} is {times_value * input_value}\")\n",
    "        times_value += 2\n",
    "        \n",
    "#Gives the user the option to exit the programme or continue using it\n",
    "    cont_exit = input(\"Would you like to continue (y/n): \")\n",
    "    while cont_exit != \"y\":\n",
    "        if cont_exit == \"n\":\n",
    "            session = \"inactive\"\n",
    "        else:\n",
    "            print(\"Error. Please enter 'y' to continue or 'n' to exit.\")\n",
    "            cont_exit = input(\"Would you like to continue (y/n): \")\n",
    "            \n",
    "    \n",
    "    \n",
    "\n",
    "   \n",
    "        \n",
    "        "
   ]
  },
  {
   "cell_type": "code",
   "execution_count": null,
   "metadata": {},
   "outputs": [],
   "source": []
  },
  {
   "cell_type": "code",
   "execution_count": null,
   "metadata": {},
   "outputs": [],
   "source": []
  },
  {
   "cell_type": "code",
   "execution_count": null,
   "metadata": {},
   "outputs": [],
   "source": []
  },
  {
   "cell_type": "code",
   "execution_count": null,
   "metadata": {},
   "outputs": [],
   "source": []
  }
 ],
 "metadata": {
  "kernelspec": {
   "display_name": "Python 3",
   "language": "python",
   "name": "python3"
  },
  "language_info": {
   "codemirror_mode": {
    "name": "ipython",
    "version": 3
   },
   "file_extension": ".py",
   "mimetype": "text/x-python",
   "name": "python",
   "nbconvert_exporter": "python",
   "pygments_lexer": "ipython3",
   "version": "3.8.3"
  }
 },
 "nbformat": 4,
 "nbformat_minor": 4
}
